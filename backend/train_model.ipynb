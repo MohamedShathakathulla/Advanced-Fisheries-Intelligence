{
 "cells": [
  {
   "cell_type": "code",
   "execution_count": null,
   "id": "61f3247a",
   "metadata": {},
   "outputs": [],
   "source": [
    "import pandas as pd\n",
    "from sklearn.ensemble import RandomForestRegressor\n",
    "from sklearn.preprocessing import LabelEncoder\n",
    "import joblib\n",
    "\n",
    "# Load your dataset\n",
    "df = pd.read_csv('../data/fish_data_cleaned.csv')\n"
   ]
  },
  {
   "cell_type": "code",
   "execution_count": null,
   "id": "f7d65d0c",
   "metadata": {},
   "outputs": [],
   "source": [
    "# Modify if needed based on your column names\n",
    "features = ['location', 'species', 'time_range']\n",
    "target = 'catch_volume_kg'"
   ]
  },
  {
   "cell_type": "code",
   "execution_count": null,
   "id": "1da825d4",
   "metadata": {},
   "outputs": [],
   "source": [
    "# Encode categorical features\n",
    "encoders = {}\n",
    "for col in features:\n",
    "    le = LabelEncoder()\n",
    "    df[col] = le.fit_transform(df[col])\n",
    "    encoders[col] = le"
   ]
  },
  {
   "cell_type": "code",
   "execution_count": null,
   "id": "2f74a771",
   "metadata": {},
   "outputs": [],
   "source": [
    "# Save encoders\n",
    "joblib.dump(encoders, 'encoders.pkl')"
   ]
  },
  {
   "cell_type": "code",
   "execution_count": null,
   "id": "da7c5ca3",
   "metadata": {},
   "outputs": [],
   "source": [
    "# Train model\n",
    "X = df[features]\n",
    "y = df[target]\n",
    "\n",
    "model = RandomForestRegressor(n_estimators=100, random_state=42)\n",
    "model.fit(X, y)"
   ]
  },
  {
   "cell_type": "code",
   "execution_count": null,
   "id": "8c023514",
   "metadata": {},
   "outputs": [],
   "source": [
    "# Save model\n",
    "joblib.dump(model, 'model.pkl')\n",
    "\n",
    "print(\"✅ Model and encoders saved.\")"
   ]
  }
 ],
 "metadata": {
  "language_info": {
   "name": "python"
  }
 },
 "nbformat": 4,
 "nbformat_minor": 5
}
